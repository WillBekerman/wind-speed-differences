{
 "cells": [
  {
   "cell_type": "code",
   "execution_count": 11,
   "metadata": {},
   "outputs": [],
   "source": [
    "import netCDF4 as nc\n",
    "import numpy\n",
    "import xarray as xr"
   ]
  },
  {
   "cell_type": "code",
   "execution_count": 12,
   "metadata": {},
   "outputs": [],
   "source": [
    "ds = xr.open_mfdataset('JA3*.nc', concat_dim='time')"
   ]
  },
  {
   "cell_type": "code",
   "execution_count": 13,
   "metadata": {},
   "outputs": [
    {
     "name": "stderr",
     "output_type": "stream",
     "text": [
      "C:\\Users\\willb\\Anaconda3\\lib\\site-packages\\xarray\\coding\\times.py:240: FutureWarning: the 'box' keyword is deprecated and will be removed in a future version. Please take steps to stop the use of 'box'\n",
      "  dates = pd.to_datetime(dates, box=False)\n",
      "C:\\Users\\willb\\AppData\\Roaming\\Python\\Python37\\site-packages\\ipykernel_launcher.py:1: SerializationWarning: saving variable lat with floating point data as an integer dtype without any _FillValue to use for NaNs\n",
      "  \"\"\"Entry point for launching an IPython kernel.\n",
      "C:\\Users\\willb\\AppData\\Roaming\\Python\\Python37\\site-packages\\ipykernel_launcher.py:1: SerializationWarning: saving variable lon with floating point data as an integer dtype without any _FillValue to use for NaNs\n",
      "  \"\"\"Entry point for launching an IPython kernel.\n"
     ]
    }
   ],
   "source": [
    "ds.to_netcdf('jason_092120.nc')"
   ]
  },
  {
   "cell_type": "markdown",
   "metadata": {},
   "source": []
  },
  {
   "cell_type": "code",
   "execution_count": 10,
   "metadata": {},
   "outputs": [
    {
     "name": "stdout",
     "output_type": "stream",
     "text": [
      "<class 'netCDF4._netCDF4.Dataset'>\n",
      "root group (NETCDF3_CLASSIC data model, file format NETCDF3):\n",
      "    Conventions: CF-1.1\n",
      "    title: GDR - Reduced dataset\n",
      "    institution: CNES\n",
      "    source: radar altimeter\n",
      "    history: 2020-12-02 12:24:34 : Creation\n",
      "    contact: CNES aviso@altimetry.fr, EUMETSAT ops@eumetsat.int, NOAA NODC.services@noaa.gov\n",
      "    references: L1 library=V5.3, L2 library=V6.3, Processing Pilot=5.8.0\n",
      "    processing_center: SALP\n",
      "    reference_document: Jason-3 Products Handbook, SALP-MU-M-OP-16118-CN\n",
      "    mission_name: Jason-3\n",
      "    altimeter_sensor_name: Poseidon-3B\n",
      "    radiometer_sensor_name: AMR\n",
      "    doris_sensor_name: DGXX-S\n",
      "    gpsr_sensor_name: GPSP\n",
      "    acq_station_name: CNES\n",
      "    cycle_number: 170\n",
      "    absolute_rev_number: 21857\n",
      "    pass_number: 21\n",
      "    absolute_pass_number: 42947\n",
      "    equator_time: 2020-09-19 23:32:05.865000\n",
      "    equator_longitude: 176.46\n",
      "    first_meas_time: 2020-09-19 23:03:59.175533\n",
      "    last_meas_time: 2020-09-20 00:00:11.219816\n",
      "    xref_altimeter_characterisation: PJ3_CH1_AXVCNE20170626_120000_20160626_000000_20301231_235959\n",
      "    xref_altimeter_ltm: PJ3_FI1_AXXCNE20201202_110032_20160117_120000_20201201_180249, PJ3_RI1_AXXCNE20201202_110043_20150720_120000_20201201_195640\n",
      "    xref_radiometer_temp: AJ3_ANT_AXXJPL20201124_000000_20140925_114600_20301231_235959\n",
      "    xref_doris_uso: JA3_OS1_AXXCNE20201202_083000_20160119_113455_20201202_034453\n",
      "    xref_orbit_data: JA3_VOR_AXVCNE20201026_100900_20200919_215523_20200921_002323\n",
      "    xref_pf_data: JA3_VPF_AXVCNE20201026_101000_20200919_215523_20200921_002323\n",
      "    xref_pole_location: SMM_POL_AXXCNE20201202_071500_19870101_000000_20211201_000000\n",
      "    xref_orf_data: JA3_ORF_AXXCNE20201202_083000_20160212_011109_20201217_081359\n",
      "    xref_meteorological_files: SMM_APA_AXVCNE20200920_032023_20200919_180000_20200919_180000, SMM_APA_AXVCNE20200920_052921_20200920_000000_20200920_000000, SMM_APA_AXVCNE20200920_151710_20200920_060000_20200920_060000, SMM_PRA_AXVCNE20200920_032023_20200919_180000_20200919_180000, SMM_PRA_AXVCNE20200920_052921_20200920_000000_20200920_000000, SMM_PRA_AXVCNE20200920_151710_20200920_060000_20200920_060000, SMM_UWA_AXVCNE20200920_032023_20200919_180000_20200919_180000, SMM_UWA_AXVCNE20200920_052921_20200920_000000_20200920_000000, SMM_UWA_AXVCNE20200920_151710_20200920_060000_20200920_060000, SMM_VWA_AXVCNE20200920_032023_20200919_180000_20200919_180000, SMM_VWA_AXVCNE20200920_052921_20200920_000000_20200920_000000, SMM_VWA_AXVCNE20200920_151710_20200920_060000_20200920_060000, SMM_WEA_AXVCNE20200920_032023_20200919_180000_20200919_180000, SMM_WEA_AXVCNE20200920_052921_20200920_000000_20200920_000000, SMM_WEA_AXVCNE20200920_151710_20200920_060000_20200920_060000, SMM_ALT_AXVCNE20110430_180000_20110504_100000_20301231_235959, SMM_ALT_AXVCNE20110430_180000_20110504_100000_20301231_235959, SMM_ALT_AXVCNE20110430_180000_20110504_100000_20301231_235959\n",
      "    xref_utc_tai_data: SMM_TUC_AXVCNE20161214_152427_19900101_000000_20380118_000000\n",
      "    xref_radiometer_calibration: AJ3_AL1_AXVJPL20070809_053513_20070809_053513_20990809_053513\n",
      "    xref_gim_data: JA3_ION_AXPCNE20200921_182726_20200919_000000_20200919_235959, JA3_ION_AXPCNE20200921_192744_20200920_000000_20200920_235959\n",
      "    xref_mog2d_data: SMM_MOG_AXVCNE20201010_070000_20200919_180000_20200919_180000, SMM_MOG_AXVCNE20201010_070000_20200920_000000_20200920_000000, SMM_MOG_AXVCNE20201010_200001_20200920_060000_20200920_060000\n",
      "    ellipsoid_axis: 6378136.3\n",
      "    ellipsoid_flattening: 0.0033528131778969\n",
      "    dimensions(sizes): time(3313)\n",
      "    variables(dimensions): float64 \u001b[4mtime\u001b[0m(time), int32 \u001b[4mlat\u001b[0m(time), int32 \u001b[4mlon\u001b[0m(time), int8 \u001b[4msurface_type\u001b[0m(time), int8 \u001b[4malt_echo_type\u001b[0m(time), int8 \u001b[4mrad_surf_type\u001b[0m(time), int8 \u001b[4malt_quality_flag\u001b[0m(time), int8 \u001b[4mrad_quality_flag\u001b[0m(time), int8 \u001b[4mgeophysical_quality_flag\u001b[0m(time), int8 \u001b[4mecmwf_meteo_map_avail\u001b[0m(time), int8 \u001b[4mrain_flag\u001b[0m(time), int8 \u001b[4mrad_rain_flag\u001b[0m(time), int8 \u001b[4mice_flag\u001b[0m(time), int8 \u001b[4mrad_sea_ice_flag\u001b[0m(time), int32 \u001b[4malt\u001b[0m(time), int32 \u001b[4mrange_ku\u001b[0m(time), int32 \u001b[4mrange_ku_mle3\u001b[0m(time), int16 \u001b[4mmodel_dry_tropo_corr\u001b[0m(time), int16 \u001b[4mrad_wet_tropo_corr\u001b[0m(time), int16 \u001b[4miono_corr_alt_ku\u001b[0m(time), int16 \u001b[4miono_corr_alt_ku_mle3\u001b[0m(time), int16 \u001b[4msea_state_bias_ku\u001b[0m(time), int16 \u001b[4msea_state_bias_ku_mle3\u001b[0m(time), int16 \u001b[4mswh_ku\u001b[0m(time), int16 \u001b[4mswh_ku_mle3\u001b[0m(time), int16 \u001b[4msig0_ku\u001b[0m(time), int16 \u001b[4msig0_ku_mle3\u001b[0m(time), int32 \u001b[4mmean_sea_surface\u001b[0m(time), int32 \u001b[4mmean_topography\u001b[0m(time), int32 \u001b[4mbathymetry\u001b[0m(time), int16 \u001b[4minv_bar_corr\u001b[0m(time), int16 \u001b[4mhf_fluctuations_corr\u001b[0m(time), int32 \u001b[4mocean_tide_sol1\u001b[0m(time), int16 \u001b[4msolid_earth_tide\u001b[0m(time), int16 \u001b[4mpole_tide\u001b[0m(time), int16 \u001b[4mwind_speed_alt\u001b[0m(time), int16 \u001b[4mwind_speed_alt_mle3\u001b[0m(time), int16 \u001b[4mrad_water_vapor\u001b[0m(time), int16 \u001b[4mrad_liquid_water\u001b[0m(time), int16 \u001b[4mssha\u001b[0m(time), int16 \u001b[4mssha_mle3\u001b[0m(time)\n",
      "    groups: \n",
      "\n",
      "odict_values([<class 'netCDF4._netCDF4.Dimension'>: name = 'time', size = 3313\n",
      "])\n"
     ]
    }
   ],
   "source": [
    "fn = '/Users/willb/Downloads/use-jason3-20201020-datasets/JA3_GPR_2PdP170_021_20200919_230359_20200920_000012.nc'\n",
    "ds = nc.Dataset(fn)\n",
    "\n",
    "print(ds)\n",
    "print(ds.dimensions.values())"
   ]
  }
 ],
 "metadata": {
  "kernelspec": {
   "display_name": "Python 3",
   "language": "python",
   "name": "python3"
  },
  "language_info": {
   "codemirror_mode": {
    "name": "ipython",
    "version": 3
   },
   "file_extension": ".py",
   "mimetype": "text/x-python",
   "name": "python",
   "nbconvert_exporter": "python",
   "pygments_lexer": "ipython3",
   "version": "3.7.4"
  }
 },
 "nbformat": 4,
 "nbformat_minor": 2
}
